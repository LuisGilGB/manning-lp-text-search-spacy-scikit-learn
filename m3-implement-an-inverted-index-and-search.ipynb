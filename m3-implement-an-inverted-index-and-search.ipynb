{
 "cells": [
  {
   "metadata": {},
   "cell_type": "markdown",
   "source": "# Milestone 3: Implement an Inverted Index and Search",
   "id": "e96777f50bf9c285"
  },
  {
   "metadata": {},
   "cell_type": "markdown",
   "source": "Import spacy and load the small English model.",
   "id": "f2aefc37e964d079"
  },
  {
   "cell_type": "code",
   "id": "initial_id",
   "metadata": {
    "collapsed": true,
    "ExecuteTime": {
     "end_time": "2024-10-26T17:50:48.620007Z",
     "start_time": "2024-10-26T17:50:48.394695Z"
    }
   },
   "source": [
    "import spacy\n",
    "import json\n",
    "import os\n",
    "nlp = spacy.load(\"en_core_web_sm\")"
   ],
   "outputs": [],
   "execution_count": 26
  },
  {
   "metadata": {},
   "cell_type": "markdown",
   "source": "Load the corpus and processed following TF-IDF data.",
   "id": "d542751a0658b5e6"
  },
  {
   "metadata": {
    "ExecuteTime": {
     "end_time": "2024-10-26T17:50:48.630638Z",
     "start_time": "2024-10-26T17:50:48.622950Z"
    }
   },
   "cell_type": "code",
   "source": [
    "with open(\"./outputs/milestone-2/corpus.json\") as f:\n",
    "    corpus = json.load(f)\n",
    "    #corpus as a set instead of a list\n",
    "    corpus = set(corpus)\n",
    "with open(\"./outputs/milestone-2/tf-idf-data.json\") as f:\n",
    "    data = json.load(f)"
   ],
   "id": "86e513e8883e980f",
   "outputs": [],
   "execution_count": 27
  },
  {
   "metadata": {},
   "cell_type": "markdown",
   "source": "Build the inverted index.",
   "id": "34095ffc1a3eb6cf"
  },
  {
   "metadata": {
    "ExecuteTime": {
     "end_time": "2024-10-26T17:50:48.642230Z",
     "start_time": "2024-10-26T17:50:48.636628Z"
    }
   },
   "cell_type": "code",
   "source": [
    "inverted_index = {}\n",
    "for word in corpus:\n",
    "    for entry in data:\n",
    "        #get the amount of times the word appears in the document\n",
    "        times_in_doc = entry[\"tf_idf\"][word]\n",
    "        if times_in_doc > 0:\n",
    "            if word in inverted_index:\n",
    "                inverted_index[word].append(entry[\"title\"])\n",
    "            else:\n",
    "                inverted_index[word] = [entry[\"title\"]]"
   ],
   "id": "8d381161361bc829",
   "outputs": [],
   "execution_count": 28
  },
  {
   "metadata": {},
   "cell_type": "markdown",
   "source": "Implement a tokenizer function (we take the one developed for the milestone 1, actually).",
   "id": "dc9892345799aa49"
  },
  {
   "metadata": {
    "ExecuteTime": {
     "end_time": "2024-10-26T17:50:48.649901Z",
     "start_time": "2024-10-26T17:50:48.647692Z"
    }
   },
   "cell_type": "code",
   "source": [
    "def tokenize(text):\n",
    "    #lowercase\n",
    "    text = text.lower()\n",
    "    #Creates a spaCy document with the text lemmas and their attributes\n",
    "    doc = nlp(text)\n",
    "    #Removes stopwords, punctuation, line breaks and other unclassified lemmas.\n",
    "    tokens = [token.lemma_ for token in doc if not token.is_stop and not token.is_punct and not token.is_space and token.pos_ != 'X']\n",
    "    #Returns a list of tokens (lemmas) found in the text.\n",
    "    return tokens"
   ],
   "id": "cd0149a715dcd5b6",
   "outputs": [],
   "execution_count": 29
  },
  {
   "metadata": {},
   "cell_type": "markdown",
   "source": "Implement the search function.",
   "id": "ebba7d174e0e695d"
  },
  {
   "metadata": {
    "ExecuteTime": {
     "end_time": "2024-10-26T17:50:48.657672Z",
     "start_time": "2024-10-26T17:50:48.655332Z"
    }
   },
   "cell_type": "code",
   "source": [
    "def search(query):\n",
    "    query_tokens = tokenize(query)\n",
    "    results_set = set()\n",
    "    results = []\n",
    "    for token in query_tokens:\n",
    "        if token in inverted_index:\n",
    "            results_set.update(set(inverted_index[token]))\n",
    "            #Concat the results\n",
    "            results.extend(inverted_index[token])\n",
    "    #Sorts the results by the number of occurrences of each document in the results list.\n",
    "    results = sorted(list(set(results)), key = lambda doc_title: results.count(doc_title), reverse = True)\n",
    "    return results"
   ],
   "id": "ba30dc023c666391",
   "outputs": [],
   "execution_count": 30
  },
  {
   "metadata": {},
   "cell_type": "markdown",
   "source": "Test the search function with \"symptoms of swine flu\".",
   "id": "af6fdb7a5a7f38c"
  },
  {
   "metadata": {
    "ExecuteTime": {
     "end_time": "2024-10-26T17:50:48.669833Z",
     "start_time": "2024-10-26T17:50:48.663518Z"
    }
   },
   "cell_type": "code",
   "source": "search(\"symptoms of swine flu\")",
   "id": "676c5f3ecbdfe053",
   "outputs": [
    {
     "data": {
      "text/plain": [
       "['Swine influenza', 'Spanish flu', 'Cholera', 'Pandemic']"
      ]
     },
     "execution_count": 31,
     "metadata": {},
     "output_type": "execute_result"
    }
   ],
   "execution_count": 31
  },
  {
   "metadata": {},
   "cell_type": "markdown",
   "source": "Test the search function with \"pandemic prevention organizations\".",
   "id": "dd8daa42f737a67b"
  },
  {
   "metadata": {
    "ExecuteTime": {
     "end_time": "2024-10-26T17:50:48.742005Z",
     "start_time": "2024-10-26T17:50:48.735277Z"
    }
   },
   "cell_type": "code",
   "source": "search(\"pandemic prevention organizations\")",
   "id": "6011b736c853ddb2",
   "outputs": [
    {
     "data": {
      "text/plain": [
       "['Pandemic prevention',\n",
       " 'HIV/AIDS',\n",
       " 'Science diplomacy and pandemics',\n",
       " 'Crimson Contagion',\n",
       " 'Event 201',\n",
       " 'Pandemic',\n",
       " '1929–1930 psittacosis pandemic',\n",
       " 'Spanish flu',\n",
       " 'Cholera',\n",
       " 'Pandemic Severity Assessment Framework',\n",
       " 'HIV/AIDS in Yunnan',\n",
       " 'PREDICT (USAID)',\n",
       " 'COVID-19 pandemic',\n",
       " 'Plague of Cyprian',\n",
       " 'Epidemiology of HIV/AIDS',\n",
       " 'Swine influenza',\n",
       " 'Antonine Plague',\n",
       " 'Pandemic severity index']"
      ]
     },
     "execution_count": 32,
     "metadata": {},
     "output_type": "execute_result"
    }
   ],
   "execution_count": 32
  }
 ],
 "metadata": {
  "kernelspec": {
   "display_name": "Python 3",
   "language": "python",
   "name": "python3"
  },
  "language_info": {
   "codemirror_mode": {
    "name": "ipython",
    "version": 2
   },
   "file_extension": ".py",
   "mimetype": "text/x-python",
   "name": "python",
   "nbconvert_exporter": "python",
   "pygments_lexer": "ipython2",
   "version": "2.7.6"
  }
 },
 "nbformat": 4,
 "nbformat_minor": 5
}
