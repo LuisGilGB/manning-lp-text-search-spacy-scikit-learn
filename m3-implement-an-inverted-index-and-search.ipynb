{
 "cells": [
  {
   "metadata": {},
   "cell_type": "markdown",
   "source": "# Milestone 3: Implement an Inverted Index and Search",
   "id": "e96777f50bf9c285"
  },
  {
   "metadata": {},
   "cell_type": "markdown",
   "source": "Import spacy and load the small English model.",
   "id": "f2aefc37e964d079"
  },
  {
   "cell_type": "code",
   "execution_count": null,
   "id": "initial_id",
   "metadata": {
    "collapsed": true
   },
   "outputs": [],
   "source": [
    "import spacy\n",
    "import json\n",
    "import os\n",
    "nlp = spacy.load(\"en_core_web_sm\")"
   ]
  },
  {
   "metadata": {},
   "cell_type": "markdown",
   "source": "Load the tokenized and processed following TF-IDF data.",
   "id": "d542751a0658b5e6"
  },
  {
   "metadata": {},
   "cell_type": "code",
   "outputs": [],
   "execution_count": null,
   "source": [
    "with open(\"./outputs/milestone-2/tf-idf-data.json\") as f:\n",
    "    data = json.load(f)"
   ],
   "id": "86e513e8883e980f"
  }
 ],
 "metadata": {
  "kernelspec": {
   "display_name": "Python 3",
   "language": "python",
   "name": "python3"
  },
  "language_info": {
   "codemirror_mode": {
    "name": "ipython",
    "version": 2
   },
   "file_extension": ".py",
   "mimetype": "text/x-python",
   "name": "python",
   "nbconvert_exporter": "python",
   "pygments_lexer": "ipython2",
   "version": "2.7.6"
  }
 },
 "nbformat": 4,
 "nbformat_minor": 5
}
