{
 "cells": [
  {
   "metadata": {},
   "cell_type": "markdown",
   "source": "# Milestone 2: TF-IDF Search using Cosine Similarity",
   "id": "e43e142caa0c337c"
  },
  {
   "metadata": {},
   "cell_type": "markdown",
   "source": "Import spacy and the small English model",
   "id": "5b5f86f89d213254"
  },
  {
   "cell_type": "code",
   "id": "initial_id",
   "metadata": {
    "collapsed": true
   },
   "source": [
    "import spacy\n",
    "import json\n",
    "import os\n",
    "nlp = spacy.load('en_core_web_sm')"
   ],
   "outputs": [],
   "execution_count": null
  },
  {
   "metadata": {},
   "cell_type": "code",
   "source": [
    "#Opens the json file at ./outputs/milestone-1/tokenized-data.json\n",
    "with open('./outputs/milestone-1/tokenized-data.json') as f:\n",
    "    data = json.load(f)"
   ],
   "id": "4b5cc1b16dd3c9b1",
   "outputs": [],
   "execution_count": null
  },
  {
   "metadata": {},
   "cell_type": "code",
   "source": [
    "#Creates a corpus of tokens from the json file\n",
    "corpus = []\n",
    "for item in data:\n",
    "    for token in item['tokenized_text']:\n",
    "        corpus.append(token)\n",
    "corpus = set(corpus)"
   ],
   "id": "285d5b1bca0c00e8",
   "outputs": [],
   "execution_count": null
  }
 ],
 "metadata": {
  "kernelspec": {
   "display_name": "Python 3",
   "language": "python",
   "name": "python3"
  },
  "language_info": {
   "codemirror_mode": {
    "name": "ipython",
    "version": 2
   },
   "file_extension": ".py",
   "mimetype": "text/x-python",
   "name": "python",
   "nbconvert_exporter": "python",
   "pygments_lexer": "ipython2",
   "version": "2.7.6"
  }
 },
 "nbformat": 4,
 "nbformat_minor": 5
}
