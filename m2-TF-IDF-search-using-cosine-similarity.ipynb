{
 "cells": [
  {
   "metadata": {},
   "cell_type": "markdown",
   "source": "# Milestone 2: TF-IDF Search using Cosine Similarity",
   "id": "e43e142caa0c337c"
  },
  {
   "metadata": {},
   "cell_type": "markdown",
   "source": "Import spacy and the small English model.",
   "id": "5b5f86f89d213254"
  },
  {
   "cell_type": "code",
   "id": "initial_id",
   "metadata": {
    "collapsed": true,
    "ExecuteTime": {
     "end_time": "2024-10-26T17:21:53.799720Z",
     "start_time": "2024-10-26T17:21:51.349220Z"
    }
   },
   "source": [
    "import spacy\n",
    "import json\n",
    "import os\n",
    "from sklearn.metrics.pairwise import cosine_similarity\n",
    "nlp = spacy.load('en_core_web_sm')"
   ],
   "outputs": [],
   "execution_count": 1
  },
  {
   "metadata": {},
   "cell_type": "markdown",
   "source": "Load the tokenized data from the json file and prepare the target directory for the outputs.",
   "id": "7cae5695377d4860"
  },
  {
   "metadata": {
    "ExecuteTime": {
     "end_time": "2024-10-26T17:21:53.810418Z",
     "start_time": "2024-10-26T17:21:53.807418Z"
    }
   },
   "cell_type": "code",
   "source": [
    "with open('./outputs/milestone-1/tokenized-data.json') as f:\n",
    "    data = json.load(f)\n",
    "\n",
    "#Ensures that the directory ./outputs/milestone-2 exists\n",
    "if not os.path.exists('./outputs/milestone-2'):\n",
    "    os.makedirs('./outputs/milestone-2')"
   ],
   "id": "4b5cc1b16dd3c9b1",
   "outputs": [],
   "execution_count": 2
  },
  {
   "metadata": {},
   "cell_type": "markdown",
   "source": "Create a corpus from all the tokens found in the json file. Then, save it as a JSON file.",
   "id": "200f6183e8e3f16b"
  },
  {
   "metadata": {
    "ExecuteTime": {
     "end_time": "2024-10-26T17:21:53.818376Z",
     "start_time": "2024-10-26T17:21:53.814059Z"
    }
   },
   "cell_type": "code",
   "source": [
    "corpus = []\n",
    "for item in data:\n",
    "    for token in item['tokenized_text']:\n",
    "        corpus.append(token)\n",
    "corpus = set(corpus)\n",
    "\n",
    "with open('./outputs/milestone-2/corpus.json', 'w') as f:\n",
    "    json.dump(list(corpus), f)"
   ],
   "id": "285d5b1bca0c00e8",
   "outputs": [],
   "execution_count": 3
  },
  {
   "metadata": {},
   "cell_type": "markdown",
   "source": "Define a function that computes the tf-idf vector for a given text input using a corpus of tokens.",
   "id": "f7072dcaae72aa7d"
  },
  {
   "metadata": {
    "ExecuteTime": {
     "end_time": "2024-10-26T17:21:53.825578Z",
     "start_time": "2024-10-26T17:21:53.822464Z"
    }
   },
   "cell_type": "code",
   "source": [
    "def build_tf_idf_vector(corpus, text_input):\n",
    "    #Creates a dictionary of the corpus with the value of 0\n",
    "    tf_idf_vector = dict.fromkeys(corpus, 0)\n",
    "    #Tokenizes the input text\n",
    "    tokens = nlp(text_input)\n",
    "    #Counts the frequency of each token in the input text\n",
    "    for token in tokens:\n",
    "        if token.text in tf_idf_vector:\n",
    "            tf_idf_vector[token.text] += 1\n",
    "    return tf_idf_vector"
   ],
   "id": "580c5dba14231727",
   "outputs": [],
   "execution_count": 4
  },
  {
   "metadata": {},
   "cell_type": "markdown",
   "source": "Computes the tf-idf vector for each document in the data",
   "id": "960ddec22de19d4e"
  },
  {
   "metadata": {
    "ExecuteTime": {
     "end_time": "2024-10-26T17:21:54.877244Z",
     "start_time": "2024-10-26T17:21:53.870607Z"
    }
   },
   "cell_type": "code",
   "source": [
    "for item in data:\n",
    "    item['tf_idf'] = build_tf_idf_vector(corpus, item['text'])"
   ],
   "id": "e913ae45ebb86b78",
   "outputs": [],
   "execution_count": 5
  },
  {
   "metadata": {},
   "cell_type": "markdown",
   "source": "Define a function that searches for a query in the data using cosine similarity.",
   "id": "7d91f20541f9807c"
  },
  {
   "metadata": {
    "ExecuteTime": {
     "end_time": "2024-10-26T17:21:54.886515Z",
     "start_time": "2024-10-26T17:21:54.883384Z"
    }
   },
   "cell_type": "code",
   "source": [
    "def search(query, data):\n",
    "    #Computes the tf-idf vector for the query\n",
    "    query_tf_idf = build_tf_idf_vector(corpus, query)\n",
    "    search_data = []\n",
    "    #Computes the cosine similarity between the query and each document in the data\n",
    "    for item in data:\n",
    "        similarity = cosine_similarity([list(item['tf_idf'].values())], [list(query_tf_idf.values())])\n",
    "        search_data.append({\n",
    "            'title': item['title'],\n",
    "            'text': item['text'],\n",
    "            'url': item['url'],\n",
    "            'similarity': similarity[0][0]\n",
    "        })\n",
    "    #Sorts the search results by similarity\n",
    "    search_data = sorted(search_data, key=lambda x: x['similarity'], reverse=True)\n",
    "    return search_data"
   ],
   "id": "d810226f8541c604",
   "outputs": [],
   "execution_count": 6
  },
  {
   "metadata": {},
   "cell_type": "markdown",
   "source": "Example of a search using the query \"Spanish flu\".",
   "id": "d14e2a23c5680c86"
  },
  {
   "metadata": {
    "ExecuteTime": {
     "end_time": "2024-10-26T17:22:56.702546Z",
     "start_time": "2024-10-26T17:22:56.680948Z"
    }
   },
   "cell_type": "code",
   "source": [
    "search_results = search(\"Spanish flu\", data)\n",
    "for result in search_results:\n",
    "    print(result['title'], result['similarity'])"
   ],
   "id": "7f52d8a6ece0598a",
   "outputs": [
    {
     "name": "stdout",
     "output_type": "stream",
     "text": [
      "Swine influenza 0.4800153607373193\n",
      "Spanish flu 0.35478743759344955\n",
      "Pandemic 0.08980265101338746\n",
      "Epidemiology of HIV/AIDS 0.0\n",
      "Antonine Plague 0.0\n",
      "Basic reproduction number 0.0\n",
      "Bills of mortality 0.0\n",
      "Cholera 0.0\n",
      "COVID-19 pandemic 0.0\n",
      "Crimson Contagion 0.0\n",
      "Disease X 0.0\n",
      "Event 201 0.0\n",
      "HIV/AIDS 0.0\n",
      "HIV/AIDS in Yunnan 0.0\n",
      "Pandemic prevention 0.0\n",
      "Pandemic Severity Assessment Framework 0.0\n",
      "Pandemic severity index 0.0\n",
      "Plague of Cyprian 0.0\n",
      "PREDICT (USAID) 0.0\n",
      "1929–1930 psittacosis pandemic 0.0\n",
      "Science diplomacy and pandemics 0.0\n",
      "Superspreader 0.0\n",
      "Targeted immunization strategies 0.0\n",
      "Unified Victim Identification System 0.0\n",
      "Viral load 0.0\n",
      "Virus 0.0\n"
     ]
    }
   ],
   "execution_count": 9
  },
  {
   "metadata": {},
   "cell_type": "markdown",
   "source": "Save the data after adding the tf-idf vectors of each entry.",
   "id": "c9598f67f666daf3"
  },
  {
   "metadata": {
    "ExecuteTime": {
     "end_time": "2024-10-26T17:21:54.942696Z",
     "start_time": "2024-10-26T17:21:54.918229Z"
    }
   },
   "cell_type": "code",
   "source": [
    "with open('./outputs/milestone-2/tf-idf-data.json', 'w') as f:\n",
    "    json.dump(data, f)"
   ],
   "id": "7e91999d7ed85674",
   "outputs": [],
   "execution_count": 8
  }
 ],
 "metadata": {
  "kernelspec": {
   "display_name": "Python 3",
   "language": "python",
   "name": "python3"
  },
  "language_info": {
   "codemirror_mode": {
    "name": "ipython",
    "version": 2
   },
   "file_extension": ".py",
   "mimetype": "text/x-python",
   "name": "python",
   "nbconvert_exporter": "python",
   "pygments_lexer": "ipython2",
   "version": "2.7.6"
  }
 },
 "nbformat": 4,
 "nbformat_minor": 5
}
