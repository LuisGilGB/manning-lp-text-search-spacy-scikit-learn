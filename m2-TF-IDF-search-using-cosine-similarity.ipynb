{
 "cells": [
  {
   "metadata": {},
   "cell_type": "markdown",
   "source": "# Milestone 2: TF-IDF Search using Cosine Similarity",
   "id": "e43e142caa0c337c"
  },
  {
   "metadata": {},
   "cell_type": "markdown",
   "source": "Import spacy and the small English model.",
   "id": "5b5f86f89d213254"
  },
  {
   "cell_type": "code",
   "id": "initial_id",
   "metadata": {
    "collapsed": true,
    "ExecuteTime": {
     "end_time": "2024-10-24T23:12:50.339014Z",
     "start_time": "2024-10-24T23:12:32.336334Z"
    }
   },
   "source": [
    "import spacy\n",
    "import json\n",
    "import os\n",
    "from sklearn.metrics.pairwise import cosine_similarity\n",
    "nlp = spacy.load('en_core_web_sm')"
   ],
   "outputs": [],
   "execution_count": 1
  },
  {
   "metadata": {},
   "cell_type": "markdown",
   "source": "Load the tokenized data from the json file and prepare the target directory for the outputs.",
   "id": "7cae5695377d4860"
  },
  {
   "metadata": {
    "ExecuteTime": {
     "end_time": "2024-10-24T23:12:50.349346Z",
     "start_time": "2024-10-24T23:12:50.346845Z"
    }
   },
   "cell_type": "code",
   "source": [
    "with open('./outputs/milestone-1/tokenized-data.json') as f:\n",
    "    data = json.load(f)\n",
    "\n",
    "#Ensures that the directory ./outputs/milestone-2 exists\n",
    "if not os.path.exists('./outputs/milestone-2'):\n",
    "    os.makedirs('./outputs/milestone-2')"
   ],
   "id": "4b5cc1b16dd3c9b1",
   "outputs": [],
   "execution_count": 2
  },
  {
   "metadata": {},
   "cell_type": "markdown",
   "source": "Create a corpus from all the tokens found in the json file. Then, save it as a JSON file.",
   "id": "200f6183e8e3f16b"
  },
  {
   "metadata": {
    "ExecuteTime": {
     "end_time": "2024-10-24T23:12:50.357210Z",
     "start_time": "2024-10-24T23:12:50.354122Z"
    }
   },
   "cell_type": "code",
   "source": [
    "corpus = []\n",
    "for item in data:\n",
    "    for token in item['tokenized_text']:\n",
    "        corpus.append(token)\n",
    "corpus = set(corpus)\n",
    "\n",
    "with open('./outputs/milestone-2/corpus.json', 'w') as f:\n",
    "    json.dump(list(corpus), f)"
   ],
   "id": "285d5b1bca0c00e8",
   "outputs": [],
   "execution_count": 3
  },
  {
   "metadata": {},
   "cell_type": "markdown",
   "source": "Define a function that computes the tf-idf vector for a given text input using a corpus of tokens.",
   "id": "f7072dcaae72aa7d"
  },
  {
   "metadata": {
    "ExecuteTime": {
     "end_time": "2024-10-24T23:12:50.364184Z",
     "start_time": "2024-10-24T23:12:50.361789Z"
    }
   },
   "cell_type": "code",
   "source": [
    "def build_tf_idf_vector(corpus, text_input):\n",
    "    #Creates a dictionary of the corpus with the value of 0\n",
    "    tf_idf_vector = dict.fromkeys(corpus, 0)\n",
    "    #Tokenizes the input text\n",
    "    tokens = nlp(text_input)\n",
    "    #Counts the frequency of each token in the input text\n",
    "    for token in tokens:\n",
    "        if token.text in tf_idf_vector:\n",
    "            tf_idf_vector[token.text] += 1\n",
    "    return tf_idf_vector"
   ],
   "id": "580c5dba14231727",
   "outputs": [],
   "execution_count": 4
  },
  {
   "metadata": {},
   "cell_type": "markdown",
   "source": "Computes the tf-idf vector for each document in the data",
   "id": "960ddec22de19d4e"
  },
  {
   "metadata": {
    "ExecuteTime": {
     "end_time": "2024-10-24T23:12:51.388655Z",
     "start_time": "2024-10-24T23:12:50.408220Z"
    }
   },
   "cell_type": "code",
   "source": [
    "for item in data:\n",
    "    item['tf_idf'] = build_tf_idf_vector(corpus, item['text'])"
   ],
   "id": "e913ae45ebb86b78",
   "outputs": [],
   "execution_count": 5
  },
  {
   "metadata": {},
   "cell_type": "markdown",
   "source": "Define a function that searches for a query in the data using cosine similarity.",
   "id": "7d91f20541f9807c"
  },
  {
   "metadata": {
    "ExecuteTime": {
     "end_time": "2024-10-24T23:12:51.397037Z",
     "start_time": "2024-10-24T23:12:51.394249Z"
    }
   },
   "cell_type": "code",
   "source": [
    "def search(query, data):\n",
    "    #Computes the tf-idf vector for the query\n",
    "    query_tf_idf = build_tf_idf_vector(corpus, query)\n",
    "    search_data = []\n",
    "    #Computes the cosine similarity between the query and each document in the data\n",
    "    for item in data:\n",
    "        similarity = cosine_similarity([list(item['tf_idf'].values())], [list(query_tf_idf.values())])\n",
    "        search_data.append({\n",
    "            'title': item['title'],\n",
    "            'text': item['text'],\n",
    "            'url': item['url'],\n",
    "            'similarity': similarity[0][0]\n",
    "        })\n",
    "    #Sorts the search results by similarity\n",
    "    search_data = sorted(search_data, key=lambda x: x['similarity'], reverse=True)\n",
    "    return search_data"
   ],
   "id": "d810226f8541c604",
   "outputs": [],
   "execution_count": 6
  },
  {
   "metadata": {},
   "cell_type": "markdown",
   "source": "Save the data after adding the tf-idf vectors of each entry.",
   "id": "c9598f67f666daf3"
  },
  {
   "metadata": {
    "ExecuteTime": {
     "end_time": "2024-10-24T23:12:51.426798Z",
     "start_time": "2024-10-24T23:12:51.403376Z"
    }
   },
   "cell_type": "code",
   "source": [
    "with open('./outputs/milestone-2/tf-idf-data.json', 'w') as f:\n",
    "    json.dump(data, f)"
   ],
   "id": "7e91999d7ed85674",
   "outputs": [],
   "execution_count": 7
  }
 ],
 "metadata": {
  "kernelspec": {
   "display_name": "Python 3",
   "language": "python",
   "name": "python3"
  },
  "language_info": {
   "codemirror_mode": {
    "name": "ipython",
    "version": 2
   },
   "file_extension": ".py",
   "mimetype": "text/x-python",
   "name": "python",
   "nbconvert_exporter": "python",
   "pygments_lexer": "ipython2",
   "version": "2.7.6"
  }
 },
 "nbformat": 4,
 "nbformat_minor": 5
}
