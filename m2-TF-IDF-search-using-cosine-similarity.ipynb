{
 "cells": [
  {
   "metadata": {},
   "cell_type": "markdown",
   "source": "# Milestone 2: TF-IDF Search using Cosine Similarity",
   "id": "e43e142caa0c337c"
  },
  {
   "metadata": {},
   "cell_type": "markdown",
   "source": "Import spacy and the small English model",
   "id": "5b5f86f89d213254"
  },
  {
   "cell_type": "code",
   "id": "initial_id",
   "metadata": {
    "collapsed": true
   },
   "source": [
    "import spacy\n",
    "import json\n",
    "import os\n",
    "from sklearn.metrics.pairwise import cosine_similarity\n",
    "nlp = spacy.load('en_core_web_sm')"
   ],
   "outputs": [],
   "execution_count": null
  },
  {
   "metadata": {},
   "cell_type": "code",
   "source": [
    "#Opens the json file at ./outputs/milestone-1/tokenized-data.json\n",
    "with open('./outputs/milestone-1/tokenized-data.json') as f:\n",
    "    data = json.load(f)"
   ],
   "id": "4b5cc1b16dd3c9b1",
   "outputs": [],
   "execution_count": null
  },
  {
   "metadata": {},
   "cell_type": "code",
   "source": [
    "#Creates a corpus of tokens from the json file\n",
    "corpus = []\n",
    "for item in data:\n",
    "    for token in item['tokenized_text']:\n",
    "        corpus.append(token)\n",
    "corpus = set(corpus)"
   ],
   "id": "285d5b1bca0c00e8",
   "outputs": [],
   "execution_count": null
  },
  {
   "metadata": {},
   "cell_type": "code",
   "source": [
    "def build_tf_idf_vector(corpus, text_input):\n",
    "    #Creates a dictionary of the corpus with the value of 0\n",
    "    tf_idf_vector = dict.fromkeys(corpus, 0)\n",
    "    #Tokenizes the input text\n",
    "    tokens = nlp(text_input)\n",
    "    #Counts the frequency of each token in the input text\n",
    "    for token in tokens:\n",
    "        if token.text in tf_idf_vector:\n",
    "            tf_idf_vector[token.text] += 1\n",
    "    return tf_idf_vector"
   ],
   "id": "580c5dba14231727",
   "outputs": [],
   "execution_count": null
  },
  {
   "metadata": {},
   "cell_type": "code",
   "source": [
    "#Computes the tf-idf vector for each document in the data\n",
    "for item in data:\n",
    "    item['tf_idf'] = build_tf_idf_vector(corpus, item['text'])"
   ],
   "id": "e913ae45ebb86b78",
   "outputs": [],
   "execution_count": null
  },
  {
   "metadata": {},
   "cell_type": "code",
   "source": [
    "def search(query, data):\n",
    "    #Computes the tf-idf vector for the query\n",
    "    query_tf_idf = build_tf_idf_vector(corpus, query)\n",
    "    search_data = []\n",
    "    #Computes the cosine similarity between the query and each document in the data\n",
    "    for item in data:\n",
    "        similarity = cosine_similarity([list(item['tf_idf'].values())], [list(query_tf_idf.values())])\n",
    "        search_data.append({\n",
    "            'title': item['title'],\n",
    "            'text': item['text'],\n",
    "            'url': item['url'],\n",
    "            'similarity': similarity[0][0]\n",
    "        })\n",
    "    #Sorts the search results by similarity\n",
    "    search_data = sorted(search_data, key=lambda x: x['similarity'], reverse=True)\n",
    "    return search_data"
   ],
   "id": "d810226f8541c604",
   "outputs": [],
   "execution_count": null
  },
  {
   "metadata": {},
   "cell_type": "code",
   "source": [
    "#Ensures that the directory ./outputs/milestone-2 exists\n",
    "if not os.path.exists('./outputs/milestone-2'):\n",
    "    os.makedirs('./outputs/milestone-2')\n",
    "#Saves the updated data to a json file\n",
    "with open('./outputs/milestone-2/tf-idf-data.json', 'w') as f:\n",
    "    json.dump(data, f)"
   ],
   "id": "7e91999d7ed85674",
   "outputs": [],
   "execution_count": null
  }
 ],
 "metadata": {
  "kernelspec": {
   "display_name": "Python 3",
   "language": "python",
   "name": "python3"
  },
  "language_info": {
   "codemirror_mode": {
    "name": "ipython",
    "version": 2
   },
   "file_extension": ".py",
   "mimetype": "text/x-python",
   "name": "python",
   "nbconvert_exporter": "python",
   "pygments_lexer": "ipython2",
   "version": "2.7.6"
  }
 },
 "nbformat": 4,
 "nbformat_minor": 5
}
